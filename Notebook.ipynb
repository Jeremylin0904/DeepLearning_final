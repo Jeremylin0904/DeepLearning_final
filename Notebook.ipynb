{
  "cells": [
    {
      "cell_type": "markdown",
      "source": [
        "# Installs\n",
        "\n"
      ],
      "metadata": {
        "id": "Adc4uQoSTJ7K"
      }
    },
    {
      "cell_type": "code",
      "source": [
        "from google.colab import drive\n",
        "drive.mount('/content/drive')"
      ],
      "metadata": {
        "id": "0hqWsmMuO-yt",
        "outputId": "6b15adc9-4eac-4176-f29e-fe2b357092d6",
        "colab": {
          "base_uri": "https://localhost:8080/"
        }
      },
      "execution_count": 3,
      "outputs": [
        {
          "output_type": "stream",
          "name": "stdout",
          "text": [
            "Mounted at /content/drive\n"
          ]
        }
      ]
    },
    {
      "cell_type": "code",
      "source": [
        "%cd drive/MyDrive/Github/DeepLearning_final"
      ],
      "metadata": {
        "id": "v-0h2SZnPT_3",
        "outputId": "c73626a9-30fb-46f7-f581-357a0df8a2fc",
        "colab": {
          "base_uri": "https://localhost:8080/"
        }
      },
      "execution_count": 4,
      "outputs": [
        {
          "output_type": "stream",
          "name": "stdout",
          "text": [
            "/content/drive/MyDrive/Github/DeepLearning_final\n"
          ]
        }
      ]
    },
    {
      "cell_type": "code",
      "source": [
        "!git pull"
      ],
      "metadata": {
        "id": "qG_463vZVRjr",
        "outputId": "695c5702-4d6c-493c-fa78-290efb681d67",
        "colab": {
          "base_uri": "https://localhost:8080/"
        }
      },
      "execution_count": 5,
      "outputs": [
        {
          "output_type": "stream",
          "name": "stdout",
          "text": [
            "remote: Enumerating objects: 5, done.\u001b[K\n",
            "remote: Counting objects:  20% (1/5)\u001b[K\rremote: Counting objects:  40% (2/5)\u001b[K\rremote: Counting objects:  60% (3/5)\u001b[K\rremote: Counting objects:  80% (4/5)\u001b[K\rremote: Counting objects: 100% (5/5)\u001b[K\rremote: Counting objects: 100% (5/5), done.\u001b[K\n",
            "remote: Compressing objects: 100% (1/1)\u001b[K\rremote: Compressing objects: 100% (1/1), done.\u001b[K\n",
            "remote: Total 3 (delta 2), reused 3 (delta 2), pack-reused 0\u001b[K\n",
            "Unpacking objects: 100% (3/3), 295 bytes | 0 bytes/s, done.\n",
            "From https://github.com/Jeremylin0904/DeepLearning_final\n",
            "   aa052e0..3ddf416  sebas      -> origin/sebas\n",
            "Updating aa052e0..3ddf416\n",
            "Fast-forward\n",
            " SiamMae.py | 7 \u001b[32m+++\u001b[m\u001b[31m----\u001b[m\n",
            " 1 file changed, 3 insertions(+), 4 deletions(-)\n"
          ]
        }
      ]
    },
    {
      "cell_type": "code",
      "source": [
        "!pip install timm\n",
        "!pip install av\n",
        "!pip install joblib"
      ],
      "metadata": {
        "id": "vCC1yZF3PEBS",
        "outputId": "1a28ff4f-c830-4a13-ae47-c16a56ddc30e",
        "colab": {
          "base_uri": "https://localhost:8080/"
        }
      },
      "execution_count": 3,
      "outputs": [
        {
          "output_type": "stream",
          "name": "stdout",
          "text": [
            "Requirement already satisfied: timm in /usr/local/lib/python3.10/dist-packages (0.9.12)\n",
            "Requirement already satisfied: torch>=1.7 in /usr/local/lib/python3.10/dist-packages (from timm) (2.1.0+cu118)\n",
            "Requirement already satisfied: torchvision in /usr/local/lib/python3.10/dist-packages (from timm) (0.16.0+cu118)\n",
            "Requirement already satisfied: pyyaml in /usr/local/lib/python3.10/dist-packages (from timm) (6.0.1)\n",
            "Requirement already satisfied: huggingface-hub in /usr/local/lib/python3.10/dist-packages (from timm) (0.19.4)\n",
            "Requirement already satisfied: safetensors in /usr/local/lib/python3.10/dist-packages (from timm) (0.4.1)\n",
            "Requirement already satisfied: filelock in /usr/local/lib/python3.10/dist-packages (from torch>=1.7->timm) (3.13.1)\n",
            "Requirement already satisfied: typing-extensions in /usr/local/lib/python3.10/dist-packages (from torch>=1.7->timm) (4.5.0)\n",
            "Requirement already satisfied: sympy in /usr/local/lib/python3.10/dist-packages (from torch>=1.7->timm) (1.12)\n",
            "Requirement already satisfied: networkx in /usr/local/lib/python3.10/dist-packages (from torch>=1.7->timm) (3.2.1)\n",
            "Requirement already satisfied: jinja2 in /usr/local/lib/python3.10/dist-packages (from torch>=1.7->timm) (3.1.2)\n",
            "Requirement already satisfied: fsspec in /usr/local/lib/python3.10/dist-packages (from torch>=1.7->timm) (2023.6.0)\n",
            "Requirement already satisfied: triton==2.1.0 in /usr/local/lib/python3.10/dist-packages (from torch>=1.7->timm) (2.1.0)\n",
            "Requirement already satisfied: requests in /usr/local/lib/python3.10/dist-packages (from huggingface-hub->timm) (2.31.0)\n",
            "Requirement already satisfied: tqdm>=4.42.1 in /usr/local/lib/python3.10/dist-packages (from huggingface-hub->timm) (4.66.1)\n",
            "Requirement already satisfied: packaging>=20.9 in /usr/local/lib/python3.10/dist-packages (from huggingface-hub->timm) (23.2)\n",
            "Requirement already satisfied: numpy in /usr/local/lib/python3.10/dist-packages (from torchvision->timm) (1.23.5)\n",
            "Requirement already satisfied: pillow!=8.3.*,>=5.3.0 in /usr/local/lib/python3.10/dist-packages (from torchvision->timm) (9.4.0)\n",
            "Requirement already satisfied: MarkupSafe>=2.0 in /usr/local/lib/python3.10/dist-packages (from jinja2->torch>=1.7->timm) (2.1.3)\n",
            "Requirement already satisfied: charset-normalizer<4,>=2 in /usr/local/lib/python3.10/dist-packages (from requests->huggingface-hub->timm) (3.3.2)\n",
            "Requirement already satisfied: idna<4,>=2.5 in /usr/local/lib/python3.10/dist-packages (from requests->huggingface-hub->timm) (3.6)\n",
            "Requirement already satisfied: urllib3<3,>=1.21.1 in /usr/local/lib/python3.10/dist-packages (from requests->huggingface-hub->timm) (2.0.7)\n",
            "Requirement already satisfied: certifi>=2017.4.17 in /usr/local/lib/python3.10/dist-packages (from requests->huggingface-hub->timm) (2023.11.17)\n",
            "Requirement already satisfied: mpmath>=0.19 in /usr/local/lib/python3.10/dist-packages (from sympy->torch>=1.7->timm) (1.3.0)\n",
            "Requirement already satisfied: av in /usr/local/lib/python3.10/dist-packages (11.0.0)\n",
            "Requirement already satisfied: joblib in /usr/local/lib/python3.10/dist-packages (1.3.2)\n"
          ]
        }
      ]
    },
    {
      "cell_type": "code",
      "source": [
        "import re\n",
        "import os\n",
        "import cv2\n",
        "import numpy as np\n",
        "import matplotlib.pyplot as plt\n",
        "from tqdm import tqdm\n",
        "from urllib import request\n",
        "import torch\n",
        "import torch.nn as nn\n",
        "import torch.optim as optim\n",
        "from torchvision.transforms import transforms\n",
        "from torch.utils.data import DataLoader, Dataset\n",
        "from torchvision.io import read_video\n",
        "from torchvision.transforms import v2\n",
        "import torch\n",
        "from torch.utils.data import DataLoader, Dataset\n",
        "\n",
        "import torch.nn.functional as F\n",
        "from functools import partial\n",
        "import gc\n",
        "import av\n",
        "import joblib\n",
        "\n",
        "from timm.models.vision_transformer import PatchEmbed\n",
        "\n",
        "from DataLoading import *\n",
        "from SiamMae import *\n",
        "from LabelPropagation import *\n",
        "from train import *\n",
        "from utils import *"
      ],
      "metadata": {
        "id": "khP9Z3ojPHJV"
      },
      "execution_count": 4,
      "outputs": []
    },
    {
      "cell_type": "markdown",
      "source": [
        "# Data loading"
      ],
      "metadata": {
        "id": "FkKDjth8TPdF"
      }
    },
    {
      "cell_type": "code",
      "source": [
        "# Change it in your branch !\n",
        "root_path = '/content/drive/MyDrive/DL Project/UCF101/UCF-101'"
      ],
      "metadata": {
        "id": "oxSw1AgSRp6-"
      },
      "execution_count": 5,
      "outputs": []
    },
    {
      "cell_type": "code",
      "source": [
        "transforms = v2.Compose([\n",
        "    v2.Resize(size=(224,224), antialias=True),\n",
        "    v2.Lambda(lambd=lambda x: x/255.0)\n",
        "])\n",
        "\n",
        "train_data = UCF101FullVideo(root=root_path, output_format=\"TCHW\",transform=transforms)\n",
        "train_data.__len__()\n",
        "train_loader = DataLoader(train_data, 32, shuffle=True, collate_fn=custom_collate, pin_memory=True, num_workers = 2)"
      ],
      "metadata": {
        "id": "2kcZrOdARe1h"
      },
      "execution_count": 6,
      "outputs": []
    },
    {
      "cell_type": "markdown",
      "source": [
        "# Model training"
      ],
      "metadata": {
        "id": "n6WqORhETR0v"
      }
    },
    {
      "cell_type": "code",
      "source": [
        "# Model, optimizer setup\n",
        "device = torch.device(\"cuda\" if torch.cuda.is_available() else \"cpu\")\n",
        "sim_mae_vit_small_path16 = sim_mae_vit_tiny_patch16_dec512d8b\n",
        "model = sim_mae_vit_small_path16().to(device)\n",
        "# Change in your branch\n",
        "folder_logs = '/content/drive/MyDrive/DL Project/Trainings/logs.txt'\n",
        "folder_model = '/content/drive/MyDrive/DL Project/Trainings'\n",
        "\n",
        "num_epochs = 100\n",
        "model = train(model, train_loader, folder_logs, folder_model, num_epochs=num_epochs, lr=1e-4)"
      ],
      "metadata": {
        "id": "xPGoL0VeSA_w",
        "outputId": "bdab0a99-3f35-483b-81b8-ba672a3846ab",
        "colab": {
          "base_uri": "https://localhost:8080/"
        }
      },
      "execution_count": null,
      "outputs": [
        {
          "output_type": "stream",
          "name": "stderr",
          "text": [
            "/usr/local/lib/python3.10/dist-packages/torchvision/io/video.py:161: UserWarning: The pts_unit 'pts' gives wrong results. Please use pts_unit 'sec'.\n",
            "  warnings.warn(\"The pts_unit 'pts' gives wrong results. Please use pts_unit 'sec'.\")\n",
            "/usr/local/lib/python3.10/dist-packages/torchvision/io/video.py:161: UserWarning: The pts_unit 'pts' gives wrong results. Please use pts_unit 'sec'.\n",
            "  warnings.warn(\"The pts_unit 'pts' gives wrong results. Please use pts_unit 'sec'.\")\n"
          ]
        },
        {
          "output_type": "stream",
          "name": "stdout",
          "text": [
            "Epoch: 0/100, Batch: 0/374, Loss: 1.0291606187820435\n",
            "Epoch: 0/100, Batch: 1/374, Loss: 0.66379714012146\n",
            "Epoch: 0/100, Batch: 2/374, Loss: 0.5222420692443848\n",
            "Epoch: 0/100, Batch: 3/374, Loss: 0.4461827278137207\n",
            "Epoch: 0/100, Batch: 4/374, Loss: 0.372102290391922\n",
            "Epoch: 0/100, Batch: 5/374, Loss: 0.31627795100212097\n",
            "Epoch: 0/100, Batch: 6/374, Loss: 0.28252774477005005\n",
            "Epoch: 0/100, Batch: 7/374, Loss: 0.26218611001968384\n",
            "Epoch: 0/100, Batch: 8/374, Loss: 0.2346665859222412\n",
            "Epoch: 0/100, Batch: 9/374, Loss: 0.19545255601406097\n",
            "Epoch: 0/100, Batch: 10/374, Loss: 0.1896517276763916\n",
            "Epoch: 0/100, Batch: 11/374, Loss: 0.16628047823905945\n",
            "Epoch: 0/100, Batch: 12/374, Loss: 0.16365906596183777\n",
            "Epoch: 0/100, Batch: 13/374, Loss: 0.1389472633600235\n",
            "Epoch: 0/100, Batch: 14/374, Loss: 0.13895398378372192\n",
            "Epoch: 0/100, Batch: 15/374, Loss: 0.11890748143196106\n",
            "Epoch: 0/100, Batch: 16/374, Loss: 0.1112685576081276\n",
            "Epoch: 0/100, Batch: 17/374, Loss: 0.12586736679077148\n"
          ]
        }
      ]
    },
    {
      "cell_type": "markdown",
      "source": [
        "# Label propagation"
      ],
      "metadata": {
        "id": "ixIOyfX2TUEv"
      }
    },
    {
      "cell_type": "code",
      "source": [
        "# Change in your branch\n",
        "root = '/content/drive/MyDrive/DL Project/DAVIS'\n",
        "\n",
        "videos_path = os.path.join(root, 'JPEGImages/480p')\n",
        "labels_path = os.path.join(root, 'Annotations/480p')"
      ],
      "metadata": {
        "id": "hLNx7sV1Tait"
      },
      "execution_count": null,
      "outputs": []
    },
    {
      "cell_type": "markdown",
      "source": [
        "## Model loading"
      ],
      "metadata": {
        "id": "RAZN2tP3TX1r"
      }
    },
    {
      "cell_type": "code",
      "source": [
        "model_path = '/content/drive/MyDrive/DL Project/training/epoch_20.pt'\n",
        "model = sim_mae_vit_small_patch16_dec512d8b()\n",
        "device = torch.device(\"cuda\" if torch.cuda.is_available() else \"cpu\")\n",
        "model = model.to(device)\n",
        "model.load_state_dict(torch.load(model_path))"
      ],
      "metadata": {
        "id": "VAz4IHBHTyep"
      },
      "execution_count": null,
      "outputs": []
    },
    {
      "cell_type": "markdown",
      "source": [
        "## Inference"
      ],
      "metadata": {
        "id": "HYGj22FsTa7J"
      }
    },
    {
      "cell_type": "code",
      "source": [
        "name_video = 'bear'\n",
        "eval_davis(model, name_video, videos_path, labels_path, 20, dino=True)"
      ],
      "metadata": {
        "id": "CVHKyPjKTWKc"
      },
      "execution_count": null,
      "outputs": []
    },
    {
      "cell_type": "code",
      "source": [
        "video_num = '00001'\n",
        "show_segm(videos_path, labels_path, name_video, video_num)"
      ],
      "metadata": {
        "id": "vVfglB6kUN_9"
      },
      "execution_count": null,
      "outputs": []
    },
    {
      "cell_type": "markdown",
      "source": [
        "## Evaluation"
      ],
      "metadata": {
        "id": "dwt-Q8beTdmI"
      }
    },
    {
      "cell_type": "code",
      "source": [
        "print(scores_one_vid(videos_path, name_video))"
      ],
      "metadata": {
        "id": "Og99E5GgTfRe"
      },
      "execution_count": null,
      "outputs": []
    }
  ],
  "metadata": {
    "language_info": {
      "name": "python"
    },
    "colab": {
      "provenance": [],
      "gpuType": "V100"
    },
    "kernelspec": {
      "name": "python3",
      "display_name": "Python 3"
    },
    "accelerator": "GPU"
  },
  "nbformat": 4,
  "nbformat_minor": 0
}